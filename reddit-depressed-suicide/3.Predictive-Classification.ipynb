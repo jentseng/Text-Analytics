{
 "cells": [
  {
   "cell_type": "code",
   "execution_count": null,
   "metadata": {
    "colab": {
     "base_uri": "https://localhost:8080/",
     "height": 204
    },
    "colab_type": "code",
    "executionInfo": {
     "elapsed": 4615,
     "status": "ok",
     "timestamp": 1575262937832,
     "user": {
      "displayName": "Jacob Padden",
      "photoUrl": "https://lh3.googleusercontent.com/a-/AAuE7mDxiKr9g9BL9qqx5mf9EX9z4XVsSX8NOQGh6qU4pA=s64",
      "userId": "07664564488178845185"
     },
     "user_tz": 360
    },
    "id": "-jvlwRsa8eux",
    "outputId": "7c1656d7-4d66-490a-f689-7d0db676db31"
   },
   "outputs": [],
   "source": [
    "import pandas as pd\n",
    "from sklearn import model_selection, preprocessing, linear_model, metrics, svm, ensemble # naive_bayes, decomposition, \n",
    "from sklearn.feature_extraction.text import TfidfVectorizer, CountVectorizer"
   ]
  },
  {
   "cell_type": "code",
   "execution_count": 2,
   "metadata": {
    "colab": {
     "base_uri": "https://localhost:8080/",
     "height": 204
    },
    "colab_type": "code",
    "executionInfo": {
     "elapsed": 4615,
     "status": "ok",
     "timestamp": 1575262937832,
     "user": {
      "displayName": "Jacob Padden",
      "photoUrl": "https://lh3.googleusercontent.com/a-/AAuE7mDxiKr9g9BL9qqx5mf9EX9z4XVsSX8NOQGh6qU4pA=s64",
      "userId": "07664564488178845185"
     },
     "user_tz": 360
    },
    "id": "-jvlwRsa8eux",
    "outputId": "7c1656d7-4d66-490a-f689-7d0db676db31"
   },
   "outputs": [
    {
     "data": {
      "text/html": [
       "<div>\n",
       "<style scoped>\n",
       "    .dataframe tbody tr th:only-of-type {\n",
       "        vertical-align: middle;\n",
       "    }\n",
       "\n",
       "    .dataframe tbody tr th {\n",
       "        vertical-align: top;\n",
       "    }\n",
       "\n",
       "    .dataframe thead th {\n",
       "        text-align: right;\n",
       "    }\n",
       "</style>\n",
       "<table border=\"1\" class=\"dataframe\">\n",
       "  <thead>\n",
       "    <tr style=\"text-align: right;\">\n",
       "      <th></th>\n",
       "      <th>Unnamed: 0</th>\n",
       "      <th>Title</th>\n",
       "      <th>Body</th>\n",
       "    </tr>\n",
       "  </thead>\n",
       "  <tbody>\n",
       "    <tr>\n",
       "      <th>0</th>\n",
       "      <td>0</td>\n",
       "      <td>Holy crap I’m back</td>\n",
       "      <td>Is that what this account will be? Pouring my ...</td>\n",
       "    </tr>\n",
       "    <tr>\n",
       "      <th>1</th>\n",
       "      <td>1</td>\n",
       "      <td>Telling someone not to kill themselves seems a...</td>\n",
       "      <td>Also, stop telling people \"Think about your fa...</td>\n",
       "    </tr>\n",
       "    <tr>\n",
       "      <th>2</th>\n",
       "      <td>2</td>\n",
       "      <td>My life is meaningless</td>\n",
       "      <td>\\n\\n\\n\\nI just want to kill myself. I cannot g...</td>\n",
       "    </tr>\n",
       "    <tr>\n",
       "      <th>3</th>\n",
       "      <td>3</td>\n",
       "      <td>I think this is my last option</td>\n",
       "      <td>It's not that I want to die. It's that I have ...</td>\n",
       "    </tr>\n",
       "    <tr>\n",
       "      <th>4</th>\n",
       "      <td>4</td>\n",
       "      <td>I don't think I can do this</td>\n",
       "      <td>I have midterms and the last thing I wanna do ...</td>\n",
       "    </tr>\n",
       "  </tbody>\n",
       "</table>\n",
       "</div>"
      ],
      "text/plain": [
       "   Unnamed: 0                                              Title  \\\n",
       "0           0                                 Holy crap I’m back   \n",
       "1           1  Telling someone not to kill themselves seems a...   \n",
       "2           2                             My life is meaningless   \n",
       "3           3                     I think this is my last option   \n",
       "4           4                        I don't think I can do this   \n",
       "\n",
       "                                                Body  \n",
       "0  Is that what this account will be? Pouring my ...  \n",
       "1  Also, stop telling people \"Think about your fa...  \n",
       "2  \\n\\n\\n\\nI just want to kill myself. I cannot g...  \n",
       "3  It's not that I want to die. It's that I have ...  \n",
       "4  I have midterms and the last thing I wanna do ...  "
      ]
     },
     "execution_count": 2,
     "metadata": {},
     "output_type": "execute_result"
    }
   ],
   "source": [
    "df_suicide = pd.read_csv('r_suicide.csv')\n",
    "df_suicide.head()"
   ]
  },
  {
   "cell_type": "code",
   "execution_count": 3,
   "metadata": {
    "colab": {
     "base_uri": "https://localhost:8080/",
     "height": 204
    },
    "colab_type": "code",
    "executionInfo": {
     "elapsed": 4615,
     "status": "ok",
     "timestamp": 1575262937832,
     "user": {
      "displayName": "Jacob Padden",
      "photoUrl": "https://lh3.googleusercontent.com/a-/AAuE7mDxiKr9g9BL9qqx5mf9EX9z4XVsSX8NOQGh6qU4pA=s64",
      "userId": "07664564488178845185"
     },
     "user_tz": 360
    },
    "id": "-jvlwRsa8eux",
    "outputId": "7c1656d7-4d66-490a-f689-7d0db676db31"
   },
   "outputs": [
    {
     "data": {
      "text/html": [
       "<div>\n",
       "<style scoped>\n",
       "    .dataframe tbody tr th:only-of-type {\n",
       "        vertical-align: middle;\n",
       "    }\n",
       "\n",
       "    .dataframe tbody tr th {\n",
       "        vertical-align: top;\n",
       "    }\n",
       "\n",
       "    .dataframe thead th {\n",
       "        text-align: right;\n",
       "    }\n",
       "</style>\n",
       "<table border=\"1\" class=\"dataframe\">\n",
       "  <thead>\n",
       "    <tr style=\"text-align: right;\">\n",
       "      <th></th>\n",
       "      <th>Unnamed: 0</th>\n",
       "      <th>Title</th>\n",
       "      <th>Body</th>\n",
       "    </tr>\n",
       "  </thead>\n",
       "  <tbody>\n",
       "    <tr>\n",
       "      <th>0</th>\n",
       "      <td>0</td>\n",
       "      <td>Not sure if I'm being annoying and overbearing...</td>\n",
       "      <td>This semester a friend of mine has skipped sev...</td>\n",
       "    </tr>\n",
       "    <tr>\n",
       "      <th>1</th>\n",
       "      <td>1</td>\n",
       "      <td>Why can't I just be homeless and die in the cold</td>\n",
       "      <td>I dont want to work I dont want to get up I do...</td>\n",
       "    </tr>\n",
       "    <tr>\n",
       "      <th>2</th>\n",
       "      <td>2</td>\n",
       "      <td>I’m better</td>\n",
       "      <td>I’d officially better and I’m ready to leave t...</td>\n",
       "    </tr>\n",
       "    <tr>\n",
       "      <th>3</th>\n",
       "      <td>3</td>\n",
       "      <td>i have therapy and i’m not going</td>\n",
       "      <td>i’ve got a therapy appointment in 1 hour and i...</td>\n",
       "    </tr>\n",
       "    <tr>\n",
       "      <th>4</th>\n",
       "      <td>4</td>\n",
       "      <td>This one girl has actually driven me into depr...</td>\n",
       "      <td>This girl and I had known each other for a whi...</td>\n",
       "    </tr>\n",
       "  </tbody>\n",
       "</table>\n",
       "</div>"
      ],
      "text/plain": [
       "   Unnamed: 0                                              Title  \\\n",
       "0           0  Not sure if I'm being annoying and overbearing...   \n",
       "1           1   Why can't I just be homeless and die in the cold   \n",
       "2           2                                         I’m better   \n",
       "3           3                   i have therapy and i’m not going   \n",
       "4           4  This one girl has actually driven me into depr...   \n",
       "\n",
       "                                                Body  \n",
       "0  This semester a friend of mine has skipped sev...  \n",
       "1  I dont want to work I dont want to get up I do...  \n",
       "2  I’d officially better and I’m ready to leave t...  \n",
       "3  i’ve got a therapy appointment in 1 hour and i...  \n",
       "4  This girl and I had known each other for a whi...  "
      ]
     },
     "execution_count": 3,
     "metadata": {},
     "output_type": "execute_result"
    }
   ],
   "source": [
    "df_depression = pd.read_csv('r_depression.csv')\n",
    "df_depression.head()"
   ]
  },
  {
   "cell_type": "markdown",
   "metadata": {
    "colab": {},
    "colab_type": "code",
    "id": "6pxSDnti8evL"
   },
   "source": [
    "### dataset preparation"
   ]
  },
  {
   "cell_type": "code",
   "execution_count": 5,
   "metadata": {
    "colab": {},
    "colab_type": "code",
    "id": "6pxSDnti8evL"
   },
   "outputs": [
    {
     "data": {
      "text/html": [
       "<div>\n",
       "<style scoped>\n",
       "    .dataframe tbody tr th:only-of-type {\n",
       "        vertical-align: middle;\n",
       "    }\n",
       "\n",
       "    .dataframe tbody tr th {\n",
       "        vertical-align: top;\n",
       "    }\n",
       "\n",
       "    .dataframe thead th {\n",
       "        text-align: right;\n",
       "    }\n",
       "</style>\n",
       "<table border=\"1\" class=\"dataframe\">\n",
       "  <thead>\n",
       "    <tr style=\"text-align: right;\">\n",
       "      <th></th>\n",
       "      <th>Title</th>\n",
       "      <th>Body</th>\n",
       "      <th>label</th>\n",
       "    </tr>\n",
       "  </thead>\n",
       "  <tbody>\n",
       "    <tr>\n",
       "      <th>0</th>\n",
       "      <td>Holy crap I’m back</td>\n",
       "      <td>Is that what this account will be? Pouring my ...</td>\n",
       "      <td>s</td>\n",
       "    </tr>\n",
       "    <tr>\n",
       "      <th>1</th>\n",
       "      <td>Telling someone not to kill themselves seems a...</td>\n",
       "      <td>Also, stop telling people \"Think about your fa...</td>\n",
       "      <td>s</td>\n",
       "    </tr>\n",
       "    <tr>\n",
       "      <th>2</th>\n",
       "      <td>My life is meaningless</td>\n",
       "      <td>\\n\\n\\n\\nI just want to kill myself. I cannot g...</td>\n",
       "      <td>s</td>\n",
       "    </tr>\n",
       "    <tr>\n",
       "      <th>3</th>\n",
       "      <td>I think this is my last option</td>\n",
       "      <td>It's not that I want to die. It's that I have ...</td>\n",
       "      <td>s</td>\n",
       "    </tr>\n",
       "    <tr>\n",
       "      <th>4</th>\n",
       "      <td>I don't think I can do this</td>\n",
       "      <td>I have midterms and the last thing I wanna do ...</td>\n",
       "      <td>s</td>\n",
       "    </tr>\n",
       "  </tbody>\n",
       "</table>\n",
       "</div>"
      ],
      "text/plain": [
       "                                               Title  \\\n",
       "0                                 Holy crap I’m back   \n",
       "1  Telling someone not to kill themselves seems a...   \n",
       "2                             My life is meaningless   \n",
       "3                     I think this is my last option   \n",
       "4                        I don't think I can do this   \n",
       "\n",
       "                                                Body label  \n",
       "0  Is that what this account will be? Pouring my ...     s  \n",
       "1  Also, stop telling people \"Think about your fa...     s  \n",
       "2  \\n\\n\\n\\nI just want to kill myself. I cannot g...     s  \n",
       "3  It's not that I want to die. It's that I have ...     s  \n",
       "4  I have midterms and the last thing I wanna do ...     s  "
      ]
     },
     "execution_count": 5,
     "metadata": {},
     "output_type": "execute_result"
    }
   ],
   "source": [
    "df_suicide = df_suicide[['Title', 'Body']]\n",
    "df_depression = df_depression[['Title', 'Body']]\n",
    "\n",
    "# add labels as the \"target\" to predict\n",
    "df_suicide['label'] = 's'\n",
    "df_depression['label'] = 'd'\n",
    "\n",
    "df = df_suicide.append(df_depression)\n",
    "df.dropna(inplace = True)\n",
    "df.head()"
   ]
  },
  {
   "cell_type": "code",
   "execution_count": 8,
   "metadata": {
    "colab": {},
    "colab_type": "code",
    "id": "sQHasnqH8evV"
   },
   "outputs": [],
   "source": [
    "# split into training and test sets\n",
    "df['Text'] = df['Title'] + ' ' + df['Body']\n",
    "\n",
    "train_x, valid_x, train_y, valid_y = model_selection.train_test_split(df['Text'], df['label'],\n",
    "                                                                      test_size = 0.2, random_state=0)"
   ]
  },
  {
   "cell_type": "code",
   "execution_count": 9,
   "metadata": {
    "colab": {},
    "colab_type": "code",
    "id": "68YR4lbZ8eve"
   },
   "outputs": [],
   "source": [
    "# label encode the target variable\n",
    "encoder = preprocessing.LabelEncoder()\n",
    "train_y = encoder.fit_transform(train_y)\n",
    "valid_y = encoder.fit_transform(valid_y)"
   ]
  },
  {
   "cell_type": "markdown",
   "metadata": {
    "colab": {},
    "colab_type": "code",
    "id": "2cpxOQur8evn"
   },
   "source": [
    "### feature engineering"
   ]
  },
  {
   "cell_type": "code",
   "execution_count": 10,
   "metadata": {
    "colab": {},
    "colab_type": "code",
    "id": "2cpxOQur8evn"
   },
   "outputs": [],
   "source": [
    "# 1. Count vectors\n",
    "count_vect = CountVectorizer(analyzer='word', token_pattern=r'\\w{1,}')\n",
    "count_vect.fit(df['Text'])\n",
    "\n",
    "xtrain_count =  count_vect.transform(train_x)\n",
    "xvalid_count =  count_vect.transform(valid_x)"
   ]
  },
  {
   "cell_type": "code",
   "execution_count": 12,
   "metadata": {
    "colab": {},
    "colab_type": "code",
    "id": "vhtlEs1K8evw"
   },
   "outputs": [],
   "source": [
    "# 2. word level tf-idf\n",
    "tfidf_vect = TfidfVectorizer(analyzer='word', token_pattern=r'\\w{1,}', max_features=5000)\n",
    "tfidf_vect.fit(df['Text'])\n",
    "xtrain_tfidf =  tfidf_vect.transform(train_x)\n",
    "xvalid_tfidf =  tfidf_vect.transform(valid_x)\n",
    "\n",
    "# 3. n-gram level tf-idf\n",
    "tfidf_vect_ngram = TfidfVectorizer(analyzer='word', token_pattern=r'\\w{1,}', ngram_range=(2,3), max_features=5000)\n",
    "tfidf_vect_ngram.fit(df['Text'])\n",
    "xtrain_tfidf_ngram =  tfidf_vect_ngram.transform(train_x)\n",
    "xvalid_tfidf_ngram =  tfidf_vect_ngram.transform(valid_x)"
   ]
  },
  {
   "cell_type": "code",
   "execution_count": 15,
   "metadata": {},
   "outputs": [],
   "source": [
    "# 4. Word embeddings - tbc"
   ]
  },
  {
   "cell_type": "markdown",
   "metadata": {},
   "source": [
    "### model training"
   ]
  },
  {
   "cell_type": "code",
   "execution_count": 16,
   "metadata": {
    "colab": {},
    "colab_type": "code",
    "id": "Ar03mAba8ev4"
   },
   "outputs": [],
   "source": [
    "def train_model(classifier, feature_vector_train, label, feature_vector_valid, is_neural_net=False):\n",
    "    # fit the training dataset on the classifier\n",
    "    classifier.fit(feature_vector_train, label)\n",
    "    \n",
    "    # predict the labels on validation dataset\n",
    "    predictions = classifier.predict(feature_vector_valid)\n",
    "    \n",
    "    if is_neural_net:\n",
    "        predictions = predictions.argmax(axis=-1)\n",
    "    \n",
    "    return metrics.accuracy_score(predictions, valid_y)"
   ]
  },
  {
   "cell_type": "code",
   "execution_count": 17,
   "metadata": {
    "colab": {
     "base_uri": "https://localhost:8080/",
     "height": 194
    },
    "colab_type": "code",
    "executionInfo": {
     "elapsed": 131873,
     "status": "ok",
     "timestamp": 1575263065224,
     "user": {
      "displayName": "Jacob Padden",
      "photoUrl": "https://lh3.googleusercontent.com/a-/AAuE7mDxiKr9g9BL9qqx5mf9EX9z4XVsSX8NOQGh6qU4pA=s64",
      "userId": "07664564488178845185"
     },
     "user_tz": 360
    },
    "id": "0PkPf0hL8ewB",
    "outputId": "101abb16-5a48-486e-8356-bb271aee68ea"
   },
   "outputs": [
    {
     "name": "stderr",
     "output_type": "stream",
     "text": [
      "C:\\Users\\Jenny\\Anaconda3\\lib\\site-packages\\sklearn\\svm\\base.py:193: FutureWarning: The default value of gamma will change from 'auto' to 'scale' in version 0.22 to account better for unscaled features. Set gamma explicitly to 'auto' or 'scale' to avoid this warning.\n",
      "  \"avoid this warning.\", FutureWarning)\n"
     ]
    },
    {
     "name": "stdout",
     "output_type": "stream",
     "text": [
      "SVM, Count Vectors:  0.6078431372549019\n",
      "SVM, N-Gram Vectors:  0.5010141987829615\n",
      "SVM, TF-IDF Vectors:  0.5010141987829615\n"
     ]
    }
   ],
   "source": [
    "accuracy = train_model(svm.SVC(), xtrain_count, train_y, xvalid_count)\n",
    "print(\"SVM, Count Vectors: \", accuracy)\n",
    "\n",
    "# SVM on Ngram Level TF IDF Vectors\n",
    "accuracy = train_model(svm.SVC(), xtrain_tfidf_ngram, train_y, xvalid_tfidf_ngram)\n",
    "print(\"SVM, N-Gram Vectors: \", accuracy)\n",
    "\n",
    "# SVM on Ngram Level TF IDF Vectors\n",
    "accuracy = train_model(svm.SVC(), xtrain_tfidf, train_y, xvalid_tfidf)\n",
    "print(\"SVM, TF-IDF Vectors: \", accuracy)"
   ]
  },
  {
   "cell_type": "code",
   "execution_count": 18,
   "metadata": {
    "colab": {
     "base_uri": "https://localhost:8080/",
     "height": 104
    },
    "colab_type": "code",
    "executionInfo": {
     "elapsed": 133291,
     "status": "ok",
     "timestamp": 1575263066666,
     "user": {
      "displayName": "Jacob Padden",
      "photoUrl": "https://lh3.googleusercontent.com/a-/AAuE7mDxiKr9g9BL9qqx5mf9EX9z4XVsSX8NOQGh6qU4pA=s64",
      "userId": "07664564488178845185"
     },
     "user_tz": 360
    },
    "id": "fwtFzrwc8ewK",
    "outputId": "c97d3dd4-2732-44cc-d0d2-542bf18f0890"
   },
   "outputs": [
    {
     "name": "stderr",
     "output_type": "stream",
     "text": [
      "C:\\Users\\Jenny\\Anaconda3\\lib\\site-packages\\sklearn\\linear_model\\logistic.py:432: FutureWarning: Default solver will be changed to 'lbfgs' in 0.22. Specify a solver to silence this warning.\n",
      "  FutureWarning)\n"
     ]
    },
    {
     "name": "stdout",
     "output_type": "stream",
     "text": [
      "LR, Count Vectors:  0.6768086544962812\n",
      "LR, WordLevel TF-IDF:  0.7126436781609196\n",
      "LR, NGram TF-IDF:  0.6876267748478702\n"
     ]
    }
   ],
   "source": [
    "# Linear Classifier on Count Vectors\n",
    "accuracy = train_model(linear_model.LogisticRegression(), xtrain_count, train_y, xvalid_count)\n",
    "print(\"LR, Count Vectors: \", accuracy)\n",
    "\n",
    "# Linear Classifier on Word Level TF IDF Vectors\n",
    "accuracy = train_model(linear_model.LogisticRegression(), xtrain_tfidf, train_y, xvalid_tfidf)\n",
    "print(\"LR, WordLevel TF-IDF: \", accuracy)\n",
    "\n",
    "accuracy = train_model(linear_model.LogisticRegression(), xtrain_tfidf_ngram, train_y, xvalid_tfidf_ngram)\n",
    "print(\"LR, NGram TF-IDF: \", accuracy)"
   ]
  },
  {
   "cell_type": "code",
   "execution_count": 19,
   "metadata": {
    "colab": {
     "base_uri": "https://localhost:8080/",
     "height": 174
    },
    "colab_type": "code",
    "executionInfo": {
     "elapsed": 135929,
     "status": "ok",
     "timestamp": 1575263069318,
     "user": {
      "displayName": "Jacob Padden",
      "photoUrl": "https://lh3.googleusercontent.com/a-/AAuE7mDxiKr9g9BL9qqx5mf9EX9z4XVsSX8NOQGh6qU4pA=s64",
      "userId": "07664564488178845185"
     },
     "user_tz": 360
    },
    "id": "QauprF1x8ewT",
    "outputId": "1391469e-7255-45d8-da58-04eaea62af39",
    "scrolled": true
   },
   "outputs": [
    {
     "name": "stderr",
     "output_type": "stream",
     "text": [
      "C:\\Users\\Jenny\\Anaconda3\\lib\\site-packages\\sklearn\\ensemble\\forest.py:245: FutureWarning: The default value of n_estimators will change from 10 in version 0.20 to 100 in 0.22.\n",
      "  \"10 in version 0.20 to 100 in 0.22.\", FutureWarning)\n"
     ]
    },
    {
     "name": "stdout",
     "output_type": "stream",
     "text": [
      "RF, Count Vectors:  0.632183908045977\n"
     ]
    },
    {
     "name": "stderr",
     "output_type": "stream",
     "text": [
      "C:\\Users\\Jenny\\Anaconda3\\lib\\site-packages\\sklearn\\ensemble\\forest.py:245: FutureWarning: The default value of n_estimators will change from 10 in version 0.20 to 100 in 0.22.\n",
      "  \"10 in version 0.20 to 100 in 0.22.\", FutureWarning)\n"
     ]
    },
    {
     "name": "stdout",
     "output_type": "stream",
     "text": [
      "RF, WordLevel TF-IDF:  0.6227180527383367\n"
     ]
    },
    {
     "name": "stderr",
     "output_type": "stream",
     "text": [
      "C:\\Users\\Jenny\\Anaconda3\\lib\\site-packages\\sklearn\\ensemble\\forest.py:245: FutureWarning: The default value of n_estimators will change from 10 in version 0.20 to 100 in 0.22.\n",
      "  \"10 in version 0.20 to 100 in 0.22.\", FutureWarning)\n"
     ]
    },
    {
     "name": "stdout",
     "output_type": "stream",
     "text": [
      "RF, NGRAM TF-IDF:  0.6484110885733604\n"
     ]
    }
   ],
   "source": [
    "# RF on Count Vectors\n",
    "accuracy = train_model(ensemble.RandomForestClassifier(), xtrain_count, train_y, xvalid_count)\n",
    "print(\"RF, Count Vectors: \", accuracy)\n",
    "\n",
    "# RF on Word Level TF IDF Vectors\n",
    "accuracy = train_model(ensemble.RandomForestClassifier(), xtrain_tfidf, train_y, xvalid_tfidf)\n",
    "print(\"RF, WordLevel TF-IDF: \", accuracy)\n",
    "\n",
    "# RF on Word Level TF IDF Vectors\n",
    "accuracy = train_model(ensemble.RandomForestClassifier(), xtrain_tfidf_ngram, train_y, xvalid_tfidf_ngram)\n",
    "print(\"RF, NGRAM TF-IDF: \", accuracy)"
   ]
  },
  {
   "cell_type": "code",
   "execution_count": null,
   "metadata": {},
   "outputs": [],
   "source": []
  }
 ],
 "metadata": {
  "colab": {
   "name": "Models on models on models bitch.ipynb",
   "provenance": []
  },
  "kernelspec": {
   "display_name": "Python 3",
   "language": "python",
   "name": "python3"
  },
  "language_info": {
   "codemirror_mode": {
    "name": "ipython",
    "version": 3
   },
   "file_extension": ".py",
   "mimetype": "text/x-python",
   "name": "python",
   "nbconvert_exporter": "python",
   "pygments_lexer": "ipython3",
   "version": "3.7.3"
  }
 },
 "nbformat": 4,
 "nbformat_minor": 1
}
