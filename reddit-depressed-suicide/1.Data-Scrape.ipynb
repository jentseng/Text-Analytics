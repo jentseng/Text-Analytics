{
 "cells": [
  {
   "cell_type": "markdown",
   "metadata": {},
   "source": [
    "This is the first of three notebooks to analyze whether we can distinguish between a depressed note and a suicidal note based on what I'd like to call \"pseudo-supervised\" learning. The idea is to \n",
    "\n",
    "1. Pull posts from two subreddits - **r/depression and r/SuicideWatch** - which we would assume should be labeled as depressed and suicidal, respectively\n",
    "2. Conduct topic modeling of the two subreddits to see if differentiation between the two types of posts can be discerned\n",
    "3. Build classification models to see how well we could label a post as being depressed or suicidal\n",
    "\n",
    "This first notebook pulls about 4000 posts from each of the subreddits mentioned."
   ]
  },
  {
   "cell_type": "code",
   "execution_count": 2,
   "metadata": {},
   "outputs": [
    {
     "name": "stdout",
     "output_type": "stream",
     "text": [
      "Collecting psaw\n",
      "  Downloading https://files.pythonhosted.org/packages/60/b7/6724defc12bdcc45470e2b1fc1b978367f3d183ec6c6baa2770a0b083fc7/psaw-0.0.7-py3-none-any.whl\n",
      "Requirement already satisfied: requests in c:\\users\\jenny\\anaconda3\\lib\\site-packages (from psaw) (2.21.0)\n",
      "Requirement already satisfied: idna<2.9,>=2.5 in c:\\users\\jenny\\anaconda3\\lib\\site-packages (from requests->psaw) (2.8)\n",
      "Requirement already satisfied: certifi>=2017.4.17 in c:\\users\\jenny\\anaconda3\\lib\\site-packages (from requests->psaw) (2019.3.9)\n",
      "Requirement already satisfied: chardet<3.1.0,>=3.0.2 in c:\\users\\jenny\\anaconda3\\lib\\site-packages (from requests->psaw) (3.0.4)\n",
      "Requirement already satisfied: urllib3<1.25,>=1.21.1 in c:\\users\\jenny\\anaconda3\\lib\\site-packages (from requests->psaw) (1.24.1)\n",
      "Installing collected packages: psaw\n",
      "Successfully installed psaw-0.0.7\n"
     ]
    }
   ],
   "source": [
    "!pip install psaw"
   ]
  },
  {
   "cell_type": "code",
   "execution_count": 3,
   "metadata": {},
   "outputs": [],
   "source": [
    "import pandas as pd\n",
    "from psaw import PushshiftAPI\n",
    "import requests\n",
    "import json\n",
    "import datetime\n",
    "import math"
   ]
  },
  {
   "cell_type": "code",
   "execution_count": 4,
   "metadata": {},
   "outputs": [],
   "source": [
    "def single_pull(subreddit, size=1000, beforeEpochDate=\"\"):\n",
    "    \"\"\"\n",
    "    This function makes one pull of posts from a given subreddit. The maximum number of posts per pull is 100.\n",
    "    \n",
    "    subreddit: subreddit you want posts from\n",
    "    size: optional parameter. Number of posts you want from a pull with max 1000\n",
    "    beforeEpochDate: optional parameter. This is the epoch date of the post you want posts after\n",
    "    \n",
    "    returns: tuple of (postsDF, afterName)\n",
    "        postsDF: DataFrame including title and body of all posts\n",
    "        epochKey: epoch date associated with last post in pull    \n",
    "    \"\"\"\n",
    "    success = False\n",
    "    while success is False:\n",
    "        page_request = requests.get(\"https://api.pushshift.io/reddit/search/submission/?subreddit={}&size={}&before={}\".format(subreddit, size, beforeEpochDate))\n",
    "        raw_pull = page_request.json()        \n",
    "        #If there's an error, sleep for 2 seconds. The rate limit is 30 requests per minute.\n",
    "        if \"error\" not in raw_pull.keys():\n",
    "            success = True\n",
    "        else:\n",
    "            print(\"Pull Failed\")\n",
    "            time.sleep(2)\n",
    "    # Create DataFrame\n",
    "    titles = []\n",
    "    bodies = []\n",
    "    for post in raw_pull[\"data\"]:\n",
    "        try:\n",
    "            bodies.append(post[\"selftext\"])\n",
    "            titles.append(post[\"title\"]) \n",
    "        except:\n",
    "            pass\n",
    "    postsDF = pd.DataFrame({\"Title\":titles, \"Body\":bodies}, index = range(0,len(titles)))\n",
    "    # Key to use to reference last post of this pull\n",
    "    epochKey = raw_pull[\"data\"][-1][\"created_utc\"]\n",
    "    return (postsDF, epochKey)"
   ]
  },
  {
   "cell_type": "code",
   "execution_count": 5,
   "metadata": {},
   "outputs": [],
   "source": [
    "def pull_x_posts(subreddit, numPosts):\n",
    "    \"\"\"\n",
    "    This funcion pulls a given number of posts from a given subreddit\n",
    "    \n",
    "    subreddit: subreddit you want to pull from\n",
    "    numPosts: number of posts you want from that subreddit\n",
    "    \n",
    "    returns: compiledDF--DataFrame with title and body for each post\n",
    "    \"\"\"\n",
    "    pulls_needed = math.ceil(numPosts/1000)\n",
    "    compiledDF = pd.DataFrame(columns=[\"Title\", \"Body\"])\n",
    "    after_key=\"\"\n",
    "    for i in range(0,pulls_needed):\n",
    "        current_pull = single_pull(subreddit, beforeEpochDate=after_key)\n",
    "        compiledDF = compiledDF.append(current_pull[0])\n",
    "        after_key = current_pull[1]\n",
    "    compiledDF.reset_index(inplace=True)\n",
    "    compiledDF.drop(\"index\", axis=1, inplace=True)\n",
    "    return compiledDF "
   ]
  },
  {
   "cell_type": "code",
   "execution_count": 6,
   "metadata": {},
   "outputs": [],
   "source": [
    "r_depression = pull_x_posts(\"depression\", 4000)\n",
    "r_depression.drop_duplicates(inplace=True)\n",
    "r_depression = r_depression[r_depression[\"Body\"] != \"[removed]\"]\n",
    "r_depression.to_csv(\"r_depression.csv\")"
   ]
  },
  {
   "cell_type": "code",
   "execution_count": 9,
   "metadata": {},
   "outputs": [
    {
     "name": "stdout",
     "output_type": "stream",
     "text": [
      "(3796, 2)\n"
     ]
    },
    {
     "data": {
      "text/html": [
       "<div>\n",
       "<style scoped>\n",
       "    .dataframe tbody tr th:only-of-type {\n",
       "        vertical-align: middle;\n",
       "    }\n",
       "\n",
       "    .dataframe tbody tr th {\n",
       "        vertical-align: top;\n",
       "    }\n",
       "\n",
       "    .dataframe thead th {\n",
       "        text-align: right;\n",
       "    }\n",
       "</style>\n",
       "<table border=\"1\" class=\"dataframe\">\n",
       "  <thead>\n",
       "    <tr style=\"text-align: right;\">\n",
       "      <th></th>\n",
       "      <th>Title</th>\n",
       "      <th>Body</th>\n",
       "    </tr>\n",
       "  </thead>\n",
       "  <tbody>\n",
       "    <tr>\n",
       "      <th>0</th>\n",
       "      <td>Not sure if I'm being annoying and overbearing...</td>\n",
       "      <td>This semester a friend of mine has skipped sev...</td>\n",
       "    </tr>\n",
       "    <tr>\n",
       "      <th>1</th>\n",
       "      <td>Why can't I just be homeless and die in the cold</td>\n",
       "      <td>I dont want to work I dont want to get up I do...</td>\n",
       "    </tr>\n",
       "    <tr>\n",
       "      <th>2</th>\n",
       "      <td>I’m better</td>\n",
       "      <td>I’d officially better and I’m ready to leave t...</td>\n",
       "    </tr>\n",
       "    <tr>\n",
       "      <th>3</th>\n",
       "      <td>i have therapy and i’m not going</td>\n",
       "      <td>i’ve got a therapy appointment in 1 hour and i...</td>\n",
       "    </tr>\n",
       "    <tr>\n",
       "      <th>4</th>\n",
       "      <td>This one girl has actually driven me into depr...</td>\n",
       "      <td>This girl and I had known each other for a whi...</td>\n",
       "    </tr>\n",
       "  </tbody>\n",
       "</table>\n",
       "</div>"
      ],
      "text/plain": [
       "                                               Title  \\\n",
       "0  Not sure if I'm being annoying and overbearing...   \n",
       "1   Why can't I just be homeless and die in the cold   \n",
       "2                                         I’m better   \n",
       "3                   i have therapy and i’m not going   \n",
       "4  This one girl has actually driven me into depr...   \n",
       "\n",
       "                                                Body  \n",
       "0  This semester a friend of mine has skipped sev...  \n",
       "1  I dont want to work I dont want to get up I do...  \n",
       "2  I’d officially better and I’m ready to leave t...  \n",
       "3  i’ve got a therapy appointment in 1 hour and i...  \n",
       "4  This girl and I had known each other for a whi...  "
      ]
     },
     "execution_count": 9,
     "metadata": {},
     "output_type": "execute_result"
    }
   ],
   "source": [
    "print(r_depression.shape)\n",
    "r_depression.head()"
   ]
  },
  {
   "cell_type": "code",
   "execution_count": 7,
   "metadata": {},
   "outputs": [],
   "source": [
    "r_suicide = pull_x_posts(\"suicidewatch\", 4000)\n",
    "r_suicide.drop_duplicates(inplace=True)\n",
    "r_suicide = r_suicide[r_suicide[\"Body\"] != \"[removed]\"]\n",
    "r_suicide.to_csv(\"r_suicide.csv\")"
   ]
  },
  {
   "cell_type": "code",
   "execution_count": 10,
   "metadata": {},
   "outputs": [
    {
     "name": "stdout",
     "output_type": "stream",
     "text": [
      "(3900, 2)\n"
     ]
    },
    {
     "data": {
      "text/html": [
       "<div>\n",
       "<style scoped>\n",
       "    .dataframe tbody tr th:only-of-type {\n",
       "        vertical-align: middle;\n",
       "    }\n",
       "\n",
       "    .dataframe tbody tr th {\n",
       "        vertical-align: top;\n",
       "    }\n",
       "\n",
       "    .dataframe thead th {\n",
       "        text-align: right;\n",
       "    }\n",
       "</style>\n",
       "<table border=\"1\" class=\"dataframe\">\n",
       "  <thead>\n",
       "    <tr style=\"text-align: right;\">\n",
       "      <th></th>\n",
       "      <th>Title</th>\n",
       "      <th>Body</th>\n",
       "    </tr>\n",
       "  </thead>\n",
       "  <tbody>\n",
       "    <tr>\n",
       "      <th>0</th>\n",
       "      <td>Holy crap I’m back</td>\n",
       "      <td>Is that what this account will be? Pouring my ...</td>\n",
       "    </tr>\n",
       "    <tr>\n",
       "      <th>1</th>\n",
       "      <td>Telling someone not to kill themselves seems a...</td>\n",
       "      <td>Also, stop telling people \"Think about your fa...</td>\n",
       "    </tr>\n",
       "    <tr>\n",
       "      <th>2</th>\n",
       "      <td>My life is meaningless</td>\n",
       "      <td>\\n\\n\\n\\nI just want to kill myself. I cannot g...</td>\n",
       "    </tr>\n",
       "    <tr>\n",
       "      <th>3</th>\n",
       "      <td>I think this is my last option</td>\n",
       "      <td>It's not that I want to die. It's that I have ...</td>\n",
       "    </tr>\n",
       "    <tr>\n",
       "      <th>4</th>\n",
       "      <td>I don't think I can do this</td>\n",
       "      <td>I have midterms and the last thing I wanna do ...</td>\n",
       "    </tr>\n",
       "  </tbody>\n",
       "</table>\n",
       "</div>"
      ],
      "text/plain": [
       "                                               Title  \\\n",
       "0                                 Holy crap I’m back   \n",
       "1  Telling someone not to kill themselves seems a...   \n",
       "2                             My life is meaningless   \n",
       "3                     I think this is my last option   \n",
       "4                        I don't think I can do this   \n",
       "\n",
       "                                                Body  \n",
       "0  Is that what this account will be? Pouring my ...  \n",
       "1  Also, stop telling people \"Think about your fa...  \n",
       "2  \\n\\n\\n\\nI just want to kill myself. I cannot g...  \n",
       "3  It's not that I want to die. It's that I have ...  \n",
       "4  I have midterms and the last thing I wanna do ...  "
      ]
     },
     "execution_count": 10,
     "metadata": {},
     "output_type": "execute_result"
    }
   ],
   "source": [
    "print(r_suicide.shape)\n",
    "r_suicide.head()"
   ]
  }
 ],
 "metadata": {
  "kernelspec": {
   "display_name": "Python 3",
   "language": "python",
   "name": "python3"
  },
  "language_info": {
   "codemirror_mode": {
    "name": "ipython",
    "version": 3
   },
   "file_extension": ".py",
   "mimetype": "text/x-python",
   "name": "python",
   "nbconvert_exporter": "python",
   "pygments_lexer": "ipython3",
   "version": "3.7.3"
  }
 },
 "nbformat": 4,
 "nbformat_minor": 2
}
